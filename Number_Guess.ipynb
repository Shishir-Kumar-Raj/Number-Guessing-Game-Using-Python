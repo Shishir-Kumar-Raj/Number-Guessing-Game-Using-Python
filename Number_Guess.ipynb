{
 "cells": [
  {
   "cell_type": "markdown",
   "id": "2c5d3643-ecef-4481-8d9c-298124404aa6",
   "metadata": {},
   "source": [
    "## Number Guessing Game"
   ]
  },
  {
   "cell_type": "code",
   "execution_count": 8,
   "id": "7e906b49-fb75-4f83-84d7-d32132795cdb",
   "metadata": {},
   "outputs": [
    {
     "name": "stdin",
     "output_type": "stream",
     "text": [
      "Guess the number:  70\n"
     ]
    },
    {
     "name": "stdout",
     "output_type": "stream",
     "text": [
      "Too low!\n"
     ]
    },
    {
     "name": "stdin",
     "output_type": "stream",
     "text": [
      "Guess the number:  80\n"
     ]
    },
    {
     "name": "stdout",
     "output_type": "stream",
     "text": [
      "Too high!\n"
     ]
    },
    {
     "name": "stdin",
     "output_type": "stream",
     "text": [
      "Guess the number:  775\n"
     ]
    },
    {
     "name": "stdout",
     "output_type": "stream",
     "text": [
      "Too high!\n"
     ]
    },
    {
     "name": "stdin",
     "output_type": "stream",
     "text": [
      "Guess the number:  75\n"
     ]
    },
    {
     "name": "stdout",
     "output_type": "stream",
     "text": [
      "Too high!\n"
     ]
    },
    {
     "name": "stdin",
     "output_type": "stream",
     "text": [
      "Guess the number:  73\n"
     ]
    },
    {
     "name": "stdout",
     "output_type": "stream",
     "text": [
      "Too low!\n",
      "You ran out of attempts! The number was 74.\n"
     ]
    }
   ],
   "source": [
    "import random\n",
    "\n",
    "def number_guess():\n",
    "    secret_number = random.randint(1, 100)\n",
    "    attempt = 5\n",
    "    for _ in range(attempt):\n",
    "        guess = int(input(\"Guess the number: \"))\n",
    "        if guess == secret_number:\n",
    "            print(\"Congratulations! You guessed it right.\")\n",
    "            return\n",
    "        elif guess > secret_number:\n",
    "            print(\"Too high!\")\n",
    "        else:\n",
    "            print(\"Too low!\")\n",
    "    \n",
    "    print(f\"You ran out of attempts! The number was {secret_number}.\")\n",
    "\n",
    "number_guess()"
   ]
  },
  {
   "cell_type": "code",
   "execution_count": null,
   "id": "573f2348-9d3b-4a5f-9e0f-b4bc5956feeb",
   "metadata": {},
   "outputs": [],
   "source": []
  }
 ],
 "metadata": {
  "kernelspec": {
   "display_name": "Python [conda env:base] *",
   "language": "python",
   "name": "conda-base-py"
  },
  "language_info": {
   "codemirror_mode": {
    "name": "ipython",
    "version": 3
   },
   "file_extension": ".py",
   "mimetype": "text/x-python",
   "name": "python",
   "nbconvert_exporter": "python",
   "pygments_lexer": "ipython3",
   "version": "3.12.7"
  }
 },
 "nbformat": 4,
 "nbformat_minor": 5
}
